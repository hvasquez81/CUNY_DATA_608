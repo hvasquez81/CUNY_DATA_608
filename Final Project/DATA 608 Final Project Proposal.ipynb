{
 "cells": [
  {
   "cell_type": "markdown",
   "metadata": {},
   "source": [
    "# COVID-19 in South Korea\n",
    "###### Henry Vasquez"
   ]
  },
  {
   "cell_type": "markdown",
   "metadata": {},
   "source": [
    "For the final project the current issue of interest is the COVID-19 or Coronavirus breakout. The data source is provided by the Korean Centers for Disease Control & Prevention (KCDC). The dataset is located in this Github repository: https://github.com/jihoo-kim/Data-Science-for-COVID-19 and has been cleaned. There are several datasets consisting of different information, all pertaining to the COVID-19 pandemic. \n",
    "\n",
    "\n",
    "Using the dataset the goal is to visualize cases both confirmed and deaths by location in South Korea, as well as a breakout of confirmed cases by patient information, such as age and sex. I'd also like to include a time series graph showing the number of cases and number of deaths. The final insight I'd like to include is the search trend of COVID-19 by NAVER, South Koreas largest portal.\n",
    "\n",
    "In conclusion, I'd like to create visualizations portraying the most impacted areas in South Korea, the resulting mortalities over time from the virus also broken out by age and sex and the panic the virus has caused by the change of the search trend in comparison to other viral breakouts. The technologies I'd like to use to create these visualizations is plotly."
   ]
  }
 ],
 "metadata": {
  "kernelspec": {
   "display_name": "Python 3",
   "language": "python",
   "name": "python3"
  },
  "language_info": {
   "codemirror_mode": {
    "name": "ipython",
    "version": 3
   },
   "file_extension": ".py",
   "mimetype": "text/x-python",
   "name": "python",
   "nbconvert_exporter": "python",
   "pygments_lexer": "ipython3",
   "version": "3.7.6"
  }
 },
 "nbformat": 4,
 "nbformat_minor": 4
}
